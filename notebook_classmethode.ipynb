{
 "cells": [
  {
   "cell_type": "markdown",
   "metadata": {},
   "source": [
    "example from https://pythonbasics.org/classmethod/"
   ]
  },
  {
   "cell_type": "code",
   "execution_count": 1,
   "metadata": {},
   "outputs": [],
   "source": [
    "class Fruit:\n",
    "    name = 'Fruitas'\n",
    "\n",
    "    @classmethod\n",
    "    def printName(cls):\n",
    "        print('The name is:', cls.name)"
   ]
  },
  {
   "cell_type": "code",
   "execution_count": 2,
   "metadata": {},
   "outputs": [
    {
     "name": "stdout",
     "output_type": "stream",
     "text": [
      "The name is: Fruitas\n",
      "The name is: Fruitas\n",
      "The name is: Fruitas\n"
     ]
    }
   ],
   "source": [
    "apple = Fruit()\n",
    "berry = Fruit()\n",
    "\n",
    "Fruit.printName()\n",
    "apple.printName()\n",
    "berry.printName()\n"
   ]
  },
  {
   "cell_type": "code",
   "execution_count": 3,
   "metadata": {},
   "outputs": [
    {
     "name": "stdout",
     "output_type": "stream",
     "text": [
      "The name is: Fruitas\n",
      "The name is: Fruitas\n",
      "The name is: Fruitas\n"
     ]
    }
   ],
   "source": [
    "apple.name=\"Apple\"\n",
    "Fruit.printName()\n",
    "apple.printName()\n",
    "berry.printName()"
   ]
  },
  {
   "cell_type": "code",
   "execution_count": 4,
   "metadata": {},
   "outputs": [
    {
     "name": "stdout",
     "output_type": "stream",
     "text": [
      "The name is: Apple\n",
      "The name is: Apple\n",
      "The name is: Apple\n"
     ]
    }
   ],
   "source": [
    "Fruit.name=\"Apple\"\n",
    "Fruit.printName()\n",
    "apple.printName()\n",
    "berry.printName()"
   ]
  },
  {
   "cell_type": "code",
   "execution_count": null,
   "metadata": {},
   "outputs": [],
   "source": []
  }
 ],
 "metadata": {
  "kernelspec": {
   "display_name": "Python 3.10.4 64-bit",
   "language": "python",
   "name": "python3"
  },
  "language_info": {
   "codemirror_mode": {
    "name": "ipython",
    "version": 3
   },
   "file_extension": ".py",
   "mimetype": "text/x-python",
   "name": "python",
   "nbconvert_exporter": "python",
   "pygments_lexer": "ipython3",
   "version": "3.10.4"
  },
  "orig_nbformat": 4,
  "vscode": {
   "interpreter": {
    "hash": "aee8b7b246df8f9039afb4144a1f6fd8d2ca17a180786b69acc140d282b71a49"
   }
  }
 },
 "nbformat": 4,
 "nbformat_minor": 2
}
